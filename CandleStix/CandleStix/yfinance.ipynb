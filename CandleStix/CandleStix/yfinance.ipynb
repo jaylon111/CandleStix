{
 "cells": [
  {
   "cell_type": "code",
   "execution_count": 2,
   "id": "72a94044",
   "metadata": {},
   "outputs": [
    {
     "name": "stdout",
     "output_type": "stream",
     "text": [
      "Collecting flask-cors\n",
      "  Downloading Flask_Cors-4.0.0-py2.py3-none-any.whl.metadata (5.4 kB)\n",
      "Requirement already satisfied: Flask>=0.9 in c:\\users\\melvin hartdige\\appdata\\local\\programs\\python\\python312\\lib\\site-packages (from flask-cors) (3.0.2)\n",
      "Requirement already satisfied: Werkzeug>=3.0.0 in c:\\users\\melvin hartdige\\appdata\\local\\programs\\python\\python312\\lib\\site-packages (from Flask>=0.9->flask-cors) (3.0.1)\n",
      "Requirement already satisfied: Jinja2>=3.1.2 in c:\\users\\melvin hartdige\\appdata\\local\\programs\\python\\python312\\lib\\site-packages (from Flask>=0.9->flask-cors) (3.1.3)\n",
      "Requirement already satisfied: itsdangerous>=2.1.2 in c:\\users\\melvin hartdige\\appdata\\local\\programs\\python\\python312\\lib\\site-packages (from Flask>=0.9->flask-cors) (2.1.2)\n",
      "Requirement already satisfied: click>=8.1.3 in c:\\users\\melvin hartdige\\appdata\\local\\programs\\python\\python312\\lib\\site-packages (from Flask>=0.9->flask-cors) (8.1.7)\n",
      "Requirement already satisfied: blinker>=1.6.2 in c:\\users\\melvin hartdige\\appdata\\local\\programs\\python\\python312\\lib\\site-packages (from Flask>=0.9->flask-cors) (1.7.0)\n",
      "Requirement already satisfied: colorama in c:\\users\\melvin hartdige\\appdata\\roaming\\python\\python312\\site-packages (from click>=8.1.3->Flask>=0.9->flask-cors) (0.4.6)\n",
      "Requirement already satisfied: MarkupSafe>=2.0 in c:\\users\\melvin hartdige\\appdata\\local\\programs\\python\\python312\\lib\\site-packages (from Jinja2>=3.1.2->Flask>=0.9->flask-cors) (2.1.5)\n",
      "Downloading Flask_Cors-4.0.0-py2.py3-none-any.whl (14 kB)\n",
      "Installing collected packages: flask-cors\n",
      "Successfully installed flask-cors-4.0.0\n",
      "Note: you may need to restart the kernel to use updated packages.\n"
     ]
    }
   ],
   "source": [
    "pip install flask-cors"
   ]
  },
  {
   "cell_type": "code",
   "execution_count": 1,
   "id": "7ba755b7-e64e-4398-8475-e8c9f349009f",
   "metadata": {
    "tags": []
   },
   "outputs": [
    {
     "name": "stderr",
     "output_type": "stream",
     "text": [
      "C:\\Users\\Melvin Hartdige\\AppData\\Local\\Temp\\ipykernel_27336\\706994309.py:1: DeprecationWarning: \n",
      "Pyarrow will become a required dependency of pandas in the next major release of pandas (pandas 3.0),\n",
      "(to allow more performant data types, such as the Arrow string type, and better interoperability with other libraries)\n",
      "but was not found to be installed on your system.\n",
      "If this would cause problems for you,\n",
      "please provide us feedback at https://github.com/pandas-dev/pandas/issues/54466\n",
      "        \n",
      "  import pandas as pd\n"
     ]
    }
   ],
   "source": [
    "import pandas as pd\n",
    "import yfinance as yf\n",
    "import plotly.graph_objects as go\n",
    "import seaborn as sns\n",
    "import matplotlib.pyplot as plt\n",
    "import numpy as np"
   ]
  },
  {
   "cell_type": "code",
   "execution_count": 2,
   "id": "5f60472c-5d1b-4860-9ee5-076c900431f5",
   "metadata": {
    "tags": []
   },
   "outputs": [
    {
     "name": "stderr",
     "output_type": "stream",
     "text": [
      "c:\\Users\\Melvin Hartdige\\AppData\\Local\\Programs\\Python\\Python312\\Lib\\site-packages\\yfinance\\utils.py:775: FutureWarning: The 'unit' keyword in TimedeltaIndex construction is deprecated and will be removed in a future version. Use pd.to_timedelta instead.\n",
      "  df.index += _pd.TimedeltaIndex(dst_error_hours, 'h')\n"
     ]
    }
   ],
   "source": [
    "stock = yf.Ticker('TSLA')\n",
    "data = stock.history(period=\"100d\")\n",
    "data.to_csv('yahoo.csv')"
   ]
  },
  {
   "cell_type": "code",
   "execution_count": 3,
   "id": "a41620ea-f1f7-481f-9db9-813183d1534d",
   "metadata": {
    "tags": []
   },
   "outputs": [
    {
     "data": {
      "application/vnd.plotly.v1+json": {
       "config": {
        "plotlyServerURL": "https://plot.ly"
       },
       "data": [
        {
         "close": [
          244.1199951171875,
          240.5,
          246.3800048828125,
          250.22000122070312,
          251.6000061035156,
          246.52999877929688,
          261.1600036621094,
          260.04998779296875,
          260.5299987792969,
          259.6700134277344,
          263.6199951171875,
          262.989990234375,
          258.8699951171875,
          251.1199951171875,
          253.9199981689453,
          254.8500061035156,
          242.67999267578125,
          220.1100006103516,
          211.9900054931641,
          212.0800018310547,
          216.5200042724609,
          212.4199981689453,
          205.75999450683597,
          207.3000030517578,
          197.3600006103516,
          200.83999633789065,
          205.66000366210935,
          218.50999450683597,
          219.9600067138672,
          219.2700042724609,
          222.17999267578125,
          222.1100006103516,
          209.97999572753903,
          214.6499938964844,
          223.7100067138672,
          237.41000366210935,
          242.83999633789065,
          233.58999633789065,
          234.3000030517578,
          235.6000061035156,
          241.1999969482422,
          234.2100067138672,
          235.4499969482422,
          236.0800018310547,
          246.72000122070312,
          244.13999938964844,
          240.0800018310547,
          238.8300018310547,
          235.5800018310547,
          238.72000122070312,
          239.3699951171875,
          242.63999938964844,
          243.83999633789065,
          239.7400054931641,
          237.00999450683597,
          239.2899932861328,
          251.0500030517578,
          253.5,
          252.0800018310547,
          257.2200012207031,
          247.13999938964844,
          254.5,
          252.5399932861328,
          256.6099853515625,
          261.44000244140625,
          253.17999267578125,
          248.47999572753903,
          248.4199981689453,
          238.4499969482422,
          237.92999267578125,
          237.4900054931641,
          240.4499969482422,
          234.9600067138672,
          233.94000244140625,
          227.22000122070312,
          218.88999938964844,
          219.91000366210935,
          215.5500030517578,
          211.8800048828125,
          212.19000244140625,
          208.8000030517578,
          209.13999938964844,
          207.8300018310547,
          182.6300048828125,
          183.25,
          190.92999267578125,
          191.58999633789065,
          187.2899932861328,
          188.8600006103516,
          187.91000366210935,
          181.05999755859372,
          185.1000061035156,
          187.5800018310547,
          189.55999755859372,
          193.57000732421875,
          188.1300048828125,
          184.0200042724609,
          188.7100067138672,
          200.4499969482422,
          199.9499969482422
         ],
         "high": [
          249.5500030517578,
          245.3300018310547,
          247.5500030517578,
          254.7700042724609,
          254.27999877929688,
          250.0200042724609,
          261.8599853515625,
          263.6000061035156,
          261.6499938964844,
          261.3599853515625,
          268.94000244140625,
          268.6000061035156,
          265.4100036621094,
          259.6000061035156,
          255.3999938964844,
          257.17999267578125,
          254.6300048828125,
          230.6100006103516,
          218.8600006103516,
          216.97999572753903,
          222.0500030517578,
          220.1000061035156,
          214.8000030517578,
          212.41000366210935,
          210.8800048828125,
          202.8000030517578,
          205.9900054931641,
          219.1999969482422,
          226.3699951171875,
          226.32000732421875,
          223.1199951171875,
          224.1499938964844,
          220.8000030517578,
          215.3800048828125,
          225.3999938964844,
          238.13999938964844,
          246.6999969482422,
          240.8800048828125,
          237.38999938964844,
          237.1000061035156,
          243.6199951171875,
          244.00999450683597,
          238.75,
          238.3300018310547,
          247,
          252.75,
          245.22000122070312,
          240.19000244140625,
          239.3699951171875,
          246.66000366210935,
          246.57000732421875,
          244.0800018310547,
          245.2700042724609,
          243.44000244140625,
          238.9900054931641,
          240.3000030517578,
          253.8800048828125,
          254.1300048828125,
          258.739990234375,
          258.3399963378906,
          259.8399963378906,
          254.8000030517578,
          258.2200012207031,
          257.9700012207031,
          263.3399963378906,
          265.1300048828125,
          255.19000244140625,
          251.25,
          245.67999267578125,
          242.6999969482422,
          240.1199951171875,
          241.25,
          238.9600067138672,
          235.5,
          230.92999267578125,
          225.33999633789065,
          223.4900054931641,
          215.6699981689453,
          217.4499969482422,
          213.19000244140625,
          217.8000030517578,
          215.6499938964844,
          212.72999572753903,
          193,
          186.77999877929688,
          191.47999572753903,
          196.3600006103516,
          193.97000122070312,
          189.8800048828125,
          188.69000244140625,
          184.67999267578125,
          186.4900054931641,
          189.7899932861328,
          191.6199951171875,
          194.1199951171875,
          194.72999572753903,
          187.25999450683597,
          188.88999938964844,
          200.8800048828125,
          203.1699981689453
         ],
         "low": [
          241.66000366210935,
          234.5800018310547,
          238.6499938964844,
          246.3500061035156,
          242.6199951171875,
          244.4499969482422,
          247.6000061035156,
          256.25,
          250.6499938964844,
          252.0500030517578,
          257.6499938964844,
          260.8999938964844,
          256.6300048828125,
          250.22000122070312,
          248.47999572753903,
          247.0800018310547,
          242.0800018310547,
          216.77999877929688,
          210.4199981689453,
          202.50999450683597,
          214.1100006103516,
          212.1999969482422,
          204.8800048828125,
          205.7700042724609,
          194.6699981689453,
          194.07000732421875,
          197.8500061035156,
          211.4499969482422,
          218.3999938964844,
          215,
          215.72000122070312,
          217.63999938964844,
          206.67999267578125,
          205.69000244140625,
          211.6100006103516,
          230.72000122070312,
          236.4499969482422,
          230.9600067138672,
          226.5399932861328,
          231.0200042724609,
          233.33999633789065,
          231.3999938964844,
          232.3300018310547,
          232.1000061035156,
          234.00999450683597,
          242.75999450683597,
          236.91000366210935,
          231.8999938964844,
          233.2899932861328,
          233.6999969482422,
          239.1699981689453,
          236.97999572753903,
          239.2700042724609,
          237.4499969482422,
          233.8699951171875,
          228.1999969482422,
          240.7899932861328,
          248.3000030517578,
          251.3600006103516,
          253.00999450683597,
          247,
          248.5500030517578,
          251.3699951171875,
          252.91000366210935,
          257.5199890136719,
          252.7100067138672,
          247.42999267578125,
          244.41000366210935,
          236.32000732421875,
          237.72999572753903,
          234.8999938964844,
          235.3000030517578,
          232.0399932861328,
          231.2899932861328,
          225.3699951171875,
          217.1499938964844,
          212.17999267578125,
          212.00999450683597,
          208.7400054931641,
          207.55999755859372,
          206.2700042724609,
          207.75,
          206.7700042724609,
          180.05999755859375,
          182.1000061035156,
          183.6699981689453,
          190.6100006103516,
          185.8500061035156,
          184.27999877929688,
          182,
          175.00999450683594,
          177.11000061035156,
          182.67999267578125,
          185.5800018310547,
          189.47999572753903,
          187.27999877929688,
          182.1100006103516,
          183.3500061035156,
          188.8600006103516,
          197.3999938964844
         ],
         "open": [
          242.97999572753903,
          244.25999450683597,
          240.0200042724609,
          250,
          244.80999755859372,
          248.6100006103516,
          248.13999938964844,
          260,
          253.97999572753903,
          255.30999755859372,
          257.75,
          266.20001220703125,
          262.9200134277344,
          258.8999938964844,
          250.0500030517578,
          250.1000061035156,
          252.6999969482422,
          225.9499969482422,
          217.00999450683597,
          210,
          216.5,
          215.8800048828125,
          211.32000732421875,
          210.6000061035156,
          209.27999877929688,
          196.1199951171875,
          204.0399932861328,
          212.97000122070312,
          221.1499938964844,
          223.97999572753903,
          219.97999572753903,
          223.1499938964844,
          219.75,
          210.02999877929688,
          215.6000061035156,
          235.02999877929688,
          239.2899932861328,
          239.4900054931641,
          232,
          234.0399932861328,
          235.0399932861328,
          242.0399932861328,
          233.75,
          236.88999938964844,
          236.67999267578125,
          249.2100067138672,
          245.13999938964844,
          233.13999938964844,
          235.75,
          233.8699951171875,
          242.9199981689453,
          241.5500030517578,
          240.2700042724609,
          242.7400054931641,
          238.5500030517578,
          234.19000244140625,
          241.22000122070312,
          251.2100067138672,
          253.77999877929688,
          253.47999572753903,
          256.4100036621094,
          251.8999938964844,
          256.760009765625,
          254.4900054931641,
          258.3500061035156,
          263.6600036621094,
          255.1000061035156,
          250.0800018310547,
          244.97999572753903,
          239.25,
          236.8600006103516,
          236.13999938964844,
          238.1100006103516,
          235.1000061035156,
          230.57000732421875,
          220.0800018310547,
          215.1000061035156,
          214.8600006103516,
          216.8800048828125,
          209.9900054931641,
          212.25999450683597,
          211.3000030517578,
          211.8800048828125,
          189.6999969482422,
          185.5,
          185.6300048828125,
          195.3300018310547,
          187,
          188.5,
          185.0399932861328,
          184.25999450683597,
          177.2100067138672,
          188.17999267578125,
          189,
          190.17999267578125,
          192.1100006103516,
          183.9900054931641,
          185.3000030517578,
          189.16000366210935,
          202.05999755859372
         ],
         "type": "candlestick",
         "x": [
          "2023-09-26 00:00:00-04:00",
          "2023-09-27 00:00:00-04:00",
          "2023-09-28 00:00:00-04:00",
          "2023-09-29 00:00:00-04:00",
          "2023-10-02 00:00:00-04:00",
          "2023-10-03 00:00:00-04:00",
          "2023-10-04 00:00:00-04:00",
          "2023-10-05 00:00:00-04:00",
          "2023-10-06 00:00:00-04:00",
          "2023-10-09 00:00:00-04:00",
          "2023-10-10 00:00:00-04:00",
          "2023-10-11 00:00:00-04:00",
          "2023-10-12 00:00:00-04:00",
          "2023-10-13 00:00:00-04:00",
          "2023-10-16 00:00:00-04:00",
          "2023-10-17 00:00:00-04:00",
          "2023-10-18 00:00:00-04:00",
          "2023-10-19 00:00:00-04:00",
          "2023-10-20 00:00:00-04:00",
          "2023-10-23 00:00:00-04:00",
          "2023-10-24 00:00:00-04:00",
          "2023-10-25 00:00:00-04:00",
          "2023-10-26 00:00:00-04:00",
          "2023-10-27 00:00:00-04:00",
          "2023-10-30 00:00:00-04:00",
          "2023-10-31 00:00:00-04:00",
          "2023-11-01 00:00:00-04:00",
          "2023-11-02 00:00:00-04:00",
          "2023-11-03 00:00:00-04:00",
          "2023-11-06 00:00:00-05:00",
          "2023-11-07 00:00:00-05:00",
          "2023-11-08 00:00:00-05:00",
          "2023-11-09 00:00:00-05:00",
          "2023-11-10 00:00:00-05:00",
          "2023-11-13 00:00:00-05:00",
          "2023-11-14 00:00:00-05:00",
          "2023-11-15 00:00:00-05:00",
          "2023-11-16 00:00:00-05:00",
          "2023-11-17 00:00:00-05:00",
          "2023-11-20 00:00:00-05:00",
          "2023-11-21 00:00:00-05:00",
          "2023-11-22 00:00:00-05:00",
          "2023-11-24 00:00:00-05:00",
          "2023-11-27 00:00:00-05:00",
          "2023-11-28 00:00:00-05:00",
          "2023-11-29 00:00:00-05:00",
          "2023-11-30 00:00:00-05:00",
          "2023-12-01 00:00:00-05:00",
          "2023-12-04 00:00:00-05:00",
          "2023-12-05 00:00:00-05:00",
          "2023-12-06 00:00:00-05:00",
          "2023-12-07 00:00:00-05:00",
          "2023-12-08 00:00:00-05:00",
          "2023-12-11 00:00:00-05:00",
          "2023-12-12 00:00:00-05:00",
          "2023-12-13 00:00:00-05:00",
          "2023-12-14 00:00:00-05:00",
          "2023-12-15 00:00:00-05:00",
          "2023-12-18 00:00:00-05:00",
          "2023-12-19 00:00:00-05:00",
          "2023-12-20 00:00:00-05:00",
          "2023-12-21 00:00:00-05:00",
          "2023-12-22 00:00:00-05:00",
          "2023-12-26 00:00:00-05:00",
          "2023-12-27 00:00:00-05:00",
          "2023-12-28 00:00:00-05:00",
          "2023-12-29 00:00:00-05:00",
          "2024-01-02 00:00:00-05:00",
          "2024-01-03 00:00:00-05:00",
          "2024-01-04 00:00:00-05:00",
          "2024-01-05 00:00:00-05:00",
          "2024-01-08 00:00:00-05:00",
          "2024-01-09 00:00:00-05:00",
          "2024-01-10 00:00:00-05:00",
          "2024-01-11 00:00:00-05:00",
          "2024-01-12 00:00:00-05:00",
          "2024-01-16 00:00:00-05:00",
          "2024-01-17 00:00:00-05:00",
          "2024-01-18 00:00:00-05:00",
          "2024-01-19 00:00:00-05:00",
          "2024-01-22 00:00:00-05:00",
          "2024-01-23 00:00:00-05:00",
          "2024-01-24 00:00:00-05:00",
          "2024-01-25 00:00:00-05:00",
          "2024-01-26 00:00:00-05:00",
          "2024-01-29 00:00:00-05:00",
          "2024-01-30 00:00:00-05:00",
          "2024-01-31 00:00:00-05:00",
          "2024-02-01 00:00:00-05:00",
          "2024-02-02 00:00:00-05:00",
          "2024-02-05 00:00:00-05:00",
          "2024-02-06 00:00:00-05:00",
          "2024-02-07 00:00:00-05:00",
          "2024-02-08 00:00:00-05:00",
          "2024-02-09 00:00:00-05:00",
          "2024-02-12 00:00:00-05:00",
          "2024-02-13 00:00:00-05:00",
          "2024-02-14 00:00:00-05:00",
          "2024-02-15 00:00:00-05:00",
          "2024-02-16 00:00:00-05:00"
         ]
        }
       ],
       "layout": {
        "template": {
         "data": {
          "bar": [
           {
            "error_x": {
             "color": "#2a3f5f"
            },
            "error_y": {
             "color": "#2a3f5f"
            },
            "marker": {
             "line": {
              "color": "#E5ECF6",
              "width": 0.5
             },
             "pattern": {
              "fillmode": "overlay",
              "size": 10,
              "solidity": 0.2
             }
            },
            "type": "bar"
           }
          ],
          "barpolar": [
           {
            "marker": {
             "line": {
              "color": "#E5ECF6",
              "width": 0.5
             },
             "pattern": {
              "fillmode": "overlay",
              "size": 10,
              "solidity": 0.2
             }
            },
            "type": "barpolar"
           }
          ],
          "carpet": [
           {
            "aaxis": {
             "endlinecolor": "#2a3f5f",
             "gridcolor": "white",
             "linecolor": "white",
             "minorgridcolor": "white",
             "startlinecolor": "#2a3f5f"
            },
            "baxis": {
             "endlinecolor": "#2a3f5f",
             "gridcolor": "white",
             "linecolor": "white",
             "minorgridcolor": "white",
             "startlinecolor": "#2a3f5f"
            },
            "type": "carpet"
           }
          ],
          "choropleth": [
           {
            "colorbar": {
             "outlinewidth": 0,
             "ticks": ""
            },
            "type": "choropleth"
           }
          ],
          "contour": [
           {
            "colorbar": {
             "outlinewidth": 0,
             "ticks": ""
            },
            "colorscale": [
             [
              0,
              "#0d0887"
             ],
             [
              0.1111111111111111,
              "#46039f"
             ],
             [
              0.2222222222222222,
              "#7201a8"
             ],
             [
              0.3333333333333333,
              "#9c179e"
             ],
             [
              0.4444444444444444,
              "#bd3786"
             ],
             [
              0.5555555555555556,
              "#d8576b"
             ],
             [
              0.6666666666666666,
              "#ed7953"
             ],
             [
              0.7777777777777778,
              "#fb9f3a"
             ],
             [
              0.8888888888888888,
              "#fdca26"
             ],
             [
              1,
              "#f0f921"
             ]
            ],
            "type": "contour"
           }
          ],
          "contourcarpet": [
           {
            "colorbar": {
             "outlinewidth": 0,
             "ticks": ""
            },
            "type": "contourcarpet"
           }
          ],
          "heatmap": [
           {
            "colorbar": {
             "outlinewidth": 0,
             "ticks": ""
            },
            "colorscale": [
             [
              0,
              "#0d0887"
             ],
             [
              0.1111111111111111,
              "#46039f"
             ],
             [
              0.2222222222222222,
              "#7201a8"
             ],
             [
              0.3333333333333333,
              "#9c179e"
             ],
             [
              0.4444444444444444,
              "#bd3786"
             ],
             [
              0.5555555555555556,
              "#d8576b"
             ],
             [
              0.6666666666666666,
              "#ed7953"
             ],
             [
              0.7777777777777778,
              "#fb9f3a"
             ],
             [
              0.8888888888888888,
              "#fdca26"
             ],
             [
              1,
              "#f0f921"
             ]
            ],
            "type": "heatmap"
           }
          ],
          "heatmapgl": [
           {
            "colorbar": {
             "outlinewidth": 0,
             "ticks": ""
            },
            "colorscale": [
             [
              0,
              "#0d0887"
             ],
             [
              0.1111111111111111,
              "#46039f"
             ],
             [
              0.2222222222222222,
              "#7201a8"
             ],
             [
              0.3333333333333333,
              "#9c179e"
             ],
             [
              0.4444444444444444,
              "#bd3786"
             ],
             [
              0.5555555555555556,
              "#d8576b"
             ],
             [
              0.6666666666666666,
              "#ed7953"
             ],
             [
              0.7777777777777778,
              "#fb9f3a"
             ],
             [
              0.8888888888888888,
              "#fdca26"
             ],
             [
              1,
              "#f0f921"
             ]
            ],
            "type": "heatmapgl"
           }
          ],
          "histogram": [
           {
            "marker": {
             "pattern": {
              "fillmode": "overlay",
              "size": 10,
              "solidity": 0.2
             }
            },
            "type": "histogram"
           }
          ],
          "histogram2d": [
           {
            "colorbar": {
             "outlinewidth": 0,
             "ticks": ""
            },
            "colorscale": [
             [
              0,
              "#0d0887"
             ],
             [
              0.1111111111111111,
              "#46039f"
             ],
             [
              0.2222222222222222,
              "#7201a8"
             ],
             [
              0.3333333333333333,
              "#9c179e"
             ],
             [
              0.4444444444444444,
              "#bd3786"
             ],
             [
              0.5555555555555556,
              "#d8576b"
             ],
             [
              0.6666666666666666,
              "#ed7953"
             ],
             [
              0.7777777777777778,
              "#fb9f3a"
             ],
             [
              0.8888888888888888,
              "#fdca26"
             ],
             [
              1,
              "#f0f921"
             ]
            ],
            "type": "histogram2d"
           }
          ],
          "histogram2dcontour": [
           {
            "colorbar": {
             "outlinewidth": 0,
             "ticks": ""
            },
            "colorscale": [
             [
              0,
              "#0d0887"
             ],
             [
              0.1111111111111111,
              "#46039f"
             ],
             [
              0.2222222222222222,
              "#7201a8"
             ],
             [
              0.3333333333333333,
              "#9c179e"
             ],
             [
              0.4444444444444444,
              "#bd3786"
             ],
             [
              0.5555555555555556,
              "#d8576b"
             ],
             [
              0.6666666666666666,
              "#ed7953"
             ],
             [
              0.7777777777777778,
              "#fb9f3a"
             ],
             [
              0.8888888888888888,
              "#fdca26"
             ],
             [
              1,
              "#f0f921"
             ]
            ],
            "type": "histogram2dcontour"
           }
          ],
          "mesh3d": [
           {
            "colorbar": {
             "outlinewidth": 0,
             "ticks": ""
            },
            "type": "mesh3d"
           }
          ],
          "parcoords": [
           {
            "line": {
             "colorbar": {
              "outlinewidth": 0,
              "ticks": ""
             }
            },
            "type": "parcoords"
           }
          ],
          "pie": [
           {
            "automargin": true,
            "type": "pie"
           }
          ],
          "scatter": [
           {
            "fillpattern": {
             "fillmode": "overlay",
             "size": 10,
             "solidity": 0.2
            },
            "type": "scatter"
           }
          ],
          "scatter3d": [
           {
            "line": {
             "colorbar": {
              "outlinewidth": 0,
              "ticks": ""
             }
            },
            "marker": {
             "colorbar": {
              "outlinewidth": 0,
              "ticks": ""
             }
            },
            "type": "scatter3d"
           }
          ],
          "scattercarpet": [
           {
            "marker": {
             "colorbar": {
              "outlinewidth": 0,
              "ticks": ""
             }
            },
            "type": "scattercarpet"
           }
          ],
          "scattergeo": [
           {
            "marker": {
             "colorbar": {
              "outlinewidth": 0,
              "ticks": ""
             }
            },
            "type": "scattergeo"
           }
          ],
          "scattergl": [
           {
            "marker": {
             "colorbar": {
              "outlinewidth": 0,
              "ticks": ""
             }
            },
            "type": "scattergl"
           }
          ],
          "scattermapbox": [
           {
            "marker": {
             "colorbar": {
              "outlinewidth": 0,
              "ticks": ""
             }
            },
            "type": "scattermapbox"
           }
          ],
          "scatterpolar": [
           {
            "marker": {
             "colorbar": {
              "outlinewidth": 0,
              "ticks": ""
             }
            },
            "type": "scatterpolar"
           }
          ],
          "scatterpolargl": [
           {
            "marker": {
             "colorbar": {
              "outlinewidth": 0,
              "ticks": ""
             }
            },
            "type": "scatterpolargl"
           }
          ],
          "scatterternary": [
           {
            "marker": {
             "colorbar": {
              "outlinewidth": 0,
              "ticks": ""
             }
            },
            "type": "scatterternary"
           }
          ],
          "surface": [
           {
            "colorbar": {
             "outlinewidth": 0,
             "ticks": ""
            },
            "colorscale": [
             [
              0,
              "#0d0887"
             ],
             [
              0.1111111111111111,
              "#46039f"
             ],
             [
              0.2222222222222222,
              "#7201a8"
             ],
             [
              0.3333333333333333,
              "#9c179e"
             ],
             [
              0.4444444444444444,
              "#bd3786"
             ],
             [
              0.5555555555555556,
              "#d8576b"
             ],
             [
              0.6666666666666666,
              "#ed7953"
             ],
             [
              0.7777777777777778,
              "#fb9f3a"
             ],
             [
              0.8888888888888888,
              "#fdca26"
             ],
             [
              1,
              "#f0f921"
             ]
            ],
            "type": "surface"
           }
          ],
          "table": [
           {
            "cells": {
             "fill": {
              "color": "#EBF0F8"
             },
             "line": {
              "color": "white"
             }
            },
            "header": {
             "fill": {
              "color": "#C8D4E3"
             },
             "line": {
              "color": "white"
             }
            },
            "type": "table"
           }
          ]
         },
         "layout": {
          "annotationdefaults": {
           "arrowcolor": "#2a3f5f",
           "arrowhead": 0,
           "arrowwidth": 1
          },
          "autotypenumbers": "strict",
          "coloraxis": {
           "colorbar": {
            "outlinewidth": 0,
            "ticks": ""
           }
          },
          "colorscale": {
           "diverging": [
            [
             0,
             "#8e0152"
            ],
            [
             0.1,
             "#c51b7d"
            ],
            [
             0.2,
             "#de77ae"
            ],
            [
             0.3,
             "#f1b6da"
            ],
            [
             0.4,
             "#fde0ef"
            ],
            [
             0.5,
             "#f7f7f7"
            ],
            [
             0.6,
             "#e6f5d0"
            ],
            [
             0.7,
             "#b8e186"
            ],
            [
             0.8,
             "#7fbc41"
            ],
            [
             0.9,
             "#4d9221"
            ],
            [
             1,
             "#276419"
            ]
           ],
           "sequential": [
            [
             0,
             "#0d0887"
            ],
            [
             0.1111111111111111,
             "#46039f"
            ],
            [
             0.2222222222222222,
             "#7201a8"
            ],
            [
             0.3333333333333333,
             "#9c179e"
            ],
            [
             0.4444444444444444,
             "#bd3786"
            ],
            [
             0.5555555555555556,
             "#d8576b"
            ],
            [
             0.6666666666666666,
             "#ed7953"
            ],
            [
             0.7777777777777778,
             "#fb9f3a"
            ],
            [
             0.8888888888888888,
             "#fdca26"
            ],
            [
             1,
             "#f0f921"
            ]
           ],
           "sequentialminus": [
            [
             0,
             "#0d0887"
            ],
            [
             0.1111111111111111,
             "#46039f"
            ],
            [
             0.2222222222222222,
             "#7201a8"
            ],
            [
             0.3333333333333333,
             "#9c179e"
            ],
            [
             0.4444444444444444,
             "#bd3786"
            ],
            [
             0.5555555555555556,
             "#d8576b"
            ],
            [
             0.6666666666666666,
             "#ed7953"
            ],
            [
             0.7777777777777778,
             "#fb9f3a"
            ],
            [
             0.8888888888888888,
             "#fdca26"
            ],
            [
             1,
             "#f0f921"
            ]
           ]
          },
          "colorway": [
           "#636efa",
           "#EF553B",
           "#00cc96",
           "#ab63fa",
           "#FFA15A",
           "#19d3f3",
           "#FF6692",
           "#B6E880",
           "#FF97FF",
           "#FECB52"
          ],
          "font": {
           "color": "#2a3f5f"
          },
          "geo": {
           "bgcolor": "white",
           "lakecolor": "white",
           "landcolor": "#E5ECF6",
           "showlakes": true,
           "showland": true,
           "subunitcolor": "white"
          },
          "hoverlabel": {
           "align": "left"
          },
          "hovermode": "closest",
          "mapbox": {
           "style": "light"
          },
          "paper_bgcolor": "white",
          "plot_bgcolor": "#E5ECF6",
          "polar": {
           "angularaxis": {
            "gridcolor": "white",
            "linecolor": "white",
            "ticks": ""
           },
           "bgcolor": "#E5ECF6",
           "radialaxis": {
            "gridcolor": "white",
            "linecolor": "white",
            "ticks": ""
           }
          },
          "scene": {
           "xaxis": {
            "backgroundcolor": "#E5ECF6",
            "gridcolor": "white",
            "gridwidth": 2,
            "linecolor": "white",
            "showbackground": true,
            "ticks": "",
            "zerolinecolor": "white"
           },
           "yaxis": {
            "backgroundcolor": "#E5ECF6",
            "gridcolor": "white",
            "gridwidth": 2,
            "linecolor": "white",
            "showbackground": true,
            "ticks": "",
            "zerolinecolor": "white"
           },
           "zaxis": {
            "backgroundcolor": "#E5ECF6",
            "gridcolor": "white",
            "gridwidth": 2,
            "linecolor": "white",
            "showbackground": true,
            "ticks": "",
            "zerolinecolor": "white"
           }
          },
          "shapedefaults": {
           "line": {
            "color": "#2a3f5f"
           }
          },
          "ternary": {
           "aaxis": {
            "gridcolor": "white",
            "linecolor": "white",
            "ticks": ""
           },
           "baxis": {
            "gridcolor": "white",
            "linecolor": "white",
            "ticks": ""
           },
           "bgcolor": "#E5ECF6",
           "caxis": {
            "gridcolor": "white",
            "linecolor": "white",
            "ticks": ""
           }
          },
          "title": {
           "x": 0.05
          },
          "xaxis": {
           "automargin": true,
           "gridcolor": "white",
           "linecolor": "white",
           "ticks": "",
           "title": {
            "standoff": 15
           },
           "zerolinecolor": "white",
           "zerolinewidth": 2
          },
          "yaxis": {
           "automargin": true,
           "gridcolor": "white",
           "linecolor": "white",
           "ticks": "",
           "title": {
            "standoff": 15
           },
           "zerolinecolor": "white",
           "zerolinewidth": 2
          }
         }
        }
       }
      }
     },
     "metadata": {},
     "output_type": "display_data"
    }
   ],
   "source": [
    "df = pd.read_csv('yahoo.csv')\n",
    "candlestick = go.Candlestick(x=df['Date'], open=df['Open'], high=df['High'], low=df['Low'], close=df['Close'])\n",
    "fig = go.Figure(data=[candlestick])\n",
    "fig.show()"
   ]
  },
  {
   "cell_type": "code",
   "execution_count": 4,
   "id": "5334c4d3-6161-4e2c-ab46-b9fe67875a60",
   "metadata": {
    "tags": []
   },
   "outputs": [
    {
     "data": {
      "text/plain": [
       "<Axes: >"
      ]
     },
     "execution_count": 4,
     "metadata": {},
     "output_type": "execute_result"
    },
    {
     "data": {
      "image/png": "[encoded data removed]",
      "text/plain": [
       "<Figure size 1200x800 with 2 Axes>"
      ]
     },
     "metadata": {},
     "output_type": "display_data"
    }
   ],
   "source": [
    "fig, ax = plt.subplots(figsize=(12, 8))\n",
    "sns.heatmap(df.corr(numeric_only=True), annot=True, cmap=\"Blues\", fmt='.1g')"
   ]
  },
  {
   "cell_type": "code",
   "execution_count": null,
   "id": "441d41cf-3bda-4c71-a6a4-4ba6c878701c",
   "metadata": {},
   "outputs": [],
   "source": []
  }
 ],
 "metadata": {
  "kernelspec": {
   "display_name": "Python 3 (ipykernel)",
   "language": "python",
   "name": "python3"
  },
  "language_info": {
   "codemirror_mode": {
    "name": "ipython",
    "version": 3
   },
   "file_extension": ".py",
   "mimetype": "text/x-python",
   "name": "python",
   "nbconvert_exporter": "python",
   "pygments_lexer": "ipython3",
   "version": "3.12.2"
  }
 },
 "nbformat": 4,
 "nbformat_minor": 5
}
